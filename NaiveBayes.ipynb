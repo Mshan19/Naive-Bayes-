{
  "nbformat": 4,
  "nbformat_minor": 0,
  "metadata": {
    "colab": {
      "name": "NaiveBayes.ipynb",
      "provenance": []
    },
    "kernelspec": {
      "name": "python3",
      "display_name": "Python 3"
    }
  },
  "cells": [
    {
      "cell_type": "code",
      "metadata": {
        "id": "tauMEORuYC4N",
        "colab_type": "code",
        "colab": {}
      },
      "source": [
        "import numpy as np\n",
        "import pandas as pd\n",
        "from sklearn.model_selection import train_test_split\n",
        "from sklearn.naive_bayes import CategoricalNB\n"
      ],
      "execution_count": 0,
      "outputs": []
    },
    {
      "cell_type": "markdown",
      "metadata": {
        "id": "bwCyMJjTgn5P",
        "colab_type": "text"
      },
      "source": [
        "***Apply Naïve Bayes classifier for predicting the feature, “Inflated”. Calculate the training set error.***"
      ]
    },
    {
      "cell_type": "code",
      "metadata": {
        "id": "8iwlqDn0Y-9Q",
        "colab_type": "code",
        "colab": {}
      },
      "source": [
        "df=pd.read_csv('NB.csv')"
      ],
      "execution_count": 0,
      "outputs": []
    },
    {
      "cell_type": "code",
      "metadata": {
        "id": "Y9AWJ24PZMEm",
        "colab_type": "code",
        "colab": {}
      },
      "source": [
        "df =df.convert_dtypes()"
      ],
      "execution_count": 0,
      "outputs": []
    },
    {
      "cell_type": "code",
      "metadata": {
        "id": "0-Yi4jIkZQk0",
        "colab_type": "code",
        "outputId": "43f51955-b9a4-4159-b6d3-a94912c1941e",
        "colab": {
          "base_uri": "https://localhost:8080/",
          "height": 34
        }
      },
      "source": [
        "df.columns"
      ],
      "execution_count": 0,
      "outputs": [
        {
          "output_type": "execute_result",
          "data": {
            "text/plain": [
              "Index(['Color', 'Size', 'Act', 'Age', 'Inflated'], dtype='object')"
            ]
          },
          "metadata": {
            "tags": []
          },
          "execution_count": 70
        }
      ]
    },
    {
      "cell_type": "code",
      "metadata": {
        "id": "O37jIdxxZUwB",
        "colab_type": "code",
        "outputId": "0dd3134f-0c1a-4ac4-8e26-1b3aab396baf",
        "colab": {
          "base_uri": "https://localhost:8080/",
          "height": 34
        }
      },
      "source": [
        "print(df.columns)"
      ],
      "execution_count": 0,
      "outputs": [
        {
          "output_type": "stream",
          "text": [
            "Index(['Color', 'Size', 'Act', 'Age', 'Inflated'], dtype='object')\n"
          ],
          "name": "stdout"
        }
      ]
    },
    {
      "cell_type": "code",
      "metadata": {
        "id": "ABP1au0ixFEw",
        "colab_type": "code",
        "outputId": "07b6ca34-e7b6-44de-99ca-fb91ea7d9a06",
        "colab": {
          "base_uri": "https://localhost:8080/",
          "height": 195
        }
      },
      "source": [
        "df.head()"
      ],
      "execution_count": 0,
      "outputs": [
        {
          "output_type": "execute_result",
          "data": {
            "text/html": [
              "<div>\n",
              "<style scoped>\n",
              "    .dataframe tbody tr th:only-of-type {\n",
              "        vertical-align: middle;\n",
              "    }\n",
              "\n",
              "    .dataframe tbody tr th {\n",
              "        vertical-align: top;\n",
              "    }\n",
              "\n",
              "    .dataframe thead th {\n",
              "        text-align: right;\n",
              "    }\n",
              "</style>\n",
              "<table border=\"1\" class=\"dataframe\">\n",
              "  <thead>\n",
              "    <tr style=\"text-align: right;\">\n",
              "      <th></th>\n",
              "      <th>Color</th>\n",
              "      <th>Size</th>\n",
              "      <th>Act</th>\n",
              "      <th>Age</th>\n",
              "      <th>Inflated</th>\n",
              "    </tr>\n",
              "  </thead>\n",
              "  <tbody>\n",
              "    <tr>\n",
              "      <th>0</th>\n",
              "      <td>Yellow</td>\n",
              "      <td>Small</td>\n",
              "      <td>Stretch</td>\n",
              "      <td>Adult</td>\n",
              "      <td>T</td>\n",
              "    </tr>\n",
              "    <tr>\n",
              "      <th>1</th>\n",
              "      <td>Yellow</td>\n",
              "      <td>Small</td>\n",
              "      <td>Stretch</td>\n",
              "      <td>Child</td>\n",
              "      <td>T</td>\n",
              "    </tr>\n",
              "    <tr>\n",
              "      <th>2</th>\n",
              "      <td>Yellow</td>\n",
              "      <td>Small</td>\n",
              "      <td>Dip</td>\n",
              "      <td>Adult</td>\n",
              "      <td>T</td>\n",
              "    </tr>\n",
              "    <tr>\n",
              "      <th>3</th>\n",
              "      <td>Yellow</td>\n",
              "      <td>Small</td>\n",
              "      <td>Dip</td>\n",
              "      <td>Child</td>\n",
              "      <td>T</td>\n",
              "    </tr>\n",
              "    <tr>\n",
              "      <th>4</th>\n",
              "      <td>Yellow</td>\n",
              "      <td>Large</td>\n",
              "      <td>Stretch</td>\n",
              "      <td>Adult</td>\n",
              "      <td>T</td>\n",
              "    </tr>\n",
              "  </tbody>\n",
              "</table>\n",
              "</div>"
            ],
            "text/plain": [
              "    Color   Size      Act    Age Inflated\n",
              "0  Yellow  Small  Stretch  Adult        T\n",
              "1  Yellow  Small  Stretch  Child        T\n",
              "2  Yellow  Small      Dip  Adult        T\n",
              "3  Yellow  Small      Dip  Child        T\n",
              "4  Yellow  Large  Stretch  Adult        T"
            ]
          },
          "metadata": {
            "tags": []
          },
          "execution_count": 72
        }
      ]
    },
    {
      "cell_type": "code",
      "metadata": {
        "id": "v1ThGcWCZaQq",
        "colab_type": "code",
        "colab": {}
      },
      "source": [
        "dfv=df"
      ],
      "execution_count": 0,
      "outputs": []
    },
    {
      "cell_type": "code",
      "metadata": {
        "id": "sgrXfqJMZhQt",
        "colab_type": "code",
        "colab": {}
      },
      "source": [
        "X=dfv.iloc[:,:4]\n",
        "Y=dfv.iloc[:, 4]\n",
        "X=np.array(X)\n",
        "Y=np.array(Y)"
      ],
      "execution_count": 0,
      "outputs": []
    },
    {
      "cell_type": "code",
      "metadata": {
        "id": "njOKjRk3zRrX",
        "colab_type": "code",
        "outputId": "205e7df1-7f73-4c74-a819-49cbad54376f",
        "colab": {
          "base_uri": "https://localhost:8080/",
          "height": 50
        }
      },
      "source": [
        "Y"
      ],
      "execution_count": 0,
      "outputs": [
        {
          "output_type": "execute_result",
          "data": {
            "text/plain": [
              "array(['T', 'T', 'T', 'T', 'T', 'F', 'F', 'F', 'T', 'F', 'F', 'F', 'T',\n",
              "       'F', 'F', 'F'], dtype=object)"
            ]
          },
          "metadata": {
            "tags": []
          },
          "execution_count": 74
        }
      ]
    },
    {
      "cell_type": "code",
      "metadata": {
        "id": "lOJqY5pCZ-uX",
        "colab_type": "code",
        "colab": {}
      },
      "source": [
        "from sklearn.preprocessing import LabelEncoder\n",
        "le = LabelEncoder()\n",
        "df['colenco']=le.fit_transform(df['Color'])\n",
        "df['sizeenco']=le.fit_transform(df['Size'])\n",
        "df['actenco']=le.fit_transform(df['Act'])\n",
        "df['agenco']=le.fit_transform(df['Age'])"
      ],
      "execution_count": 0,
      "outputs": []
    },
    {
      "cell_type": "code",
      "metadata": {
        "id": "qSGPF-dYcDiB",
        "colab_type": "code",
        "colab": {}
      },
      "source": [
        "df.drop(columns=['Color','Size','Age','Act'],inplace=True)"
      ],
      "execution_count": 0,
      "outputs": []
    },
    {
      "cell_type": "code",
      "metadata": {
        "id": "B_YN6rEgcOg3",
        "colab_type": "code",
        "colab": {}
      },
      "source": [
        "dfv=df"
      ],
      "execution_count": 0,
      "outputs": []
    },
    {
      "cell_type": "code",
      "metadata": {
        "id": "iSxYrcG6cQwk",
        "colab_type": "code",
        "outputId": "7dbcf2b6-519a-4f8f-fe55-95544039bac2",
        "colab": {
          "base_uri": "https://localhost:8080/",
          "height": 195
        }
      },
      "source": [
        "dfv.head()"
      ],
      "execution_count": 0,
      "outputs": [
        {
          "output_type": "execute_result",
          "data": {
            "text/html": [
              "<div>\n",
              "<style scoped>\n",
              "    .dataframe tbody tr th:only-of-type {\n",
              "        vertical-align: middle;\n",
              "    }\n",
              "\n",
              "    .dataframe tbody tr th {\n",
              "        vertical-align: top;\n",
              "    }\n",
              "\n",
              "    .dataframe thead th {\n",
              "        text-align: right;\n",
              "    }\n",
              "</style>\n",
              "<table border=\"1\" class=\"dataframe\">\n",
              "  <thead>\n",
              "    <tr style=\"text-align: right;\">\n",
              "      <th></th>\n",
              "      <th>Inflated</th>\n",
              "      <th>colenco</th>\n",
              "      <th>sizeenco</th>\n",
              "      <th>actenco</th>\n",
              "      <th>agenco</th>\n",
              "    </tr>\n",
              "  </thead>\n",
              "  <tbody>\n",
              "    <tr>\n",
              "      <th>0</th>\n",
              "      <td>T</td>\n",
              "      <td>1</td>\n",
              "      <td>1</td>\n",
              "      <td>1</td>\n",
              "      <td>0</td>\n",
              "    </tr>\n",
              "    <tr>\n",
              "      <th>1</th>\n",
              "      <td>T</td>\n",
              "      <td>1</td>\n",
              "      <td>1</td>\n",
              "      <td>1</td>\n",
              "      <td>1</td>\n",
              "    </tr>\n",
              "    <tr>\n",
              "      <th>2</th>\n",
              "      <td>T</td>\n",
              "      <td>1</td>\n",
              "      <td>1</td>\n",
              "      <td>0</td>\n",
              "      <td>0</td>\n",
              "    </tr>\n",
              "    <tr>\n",
              "      <th>3</th>\n",
              "      <td>T</td>\n",
              "      <td>1</td>\n",
              "      <td>1</td>\n",
              "      <td>0</td>\n",
              "      <td>1</td>\n",
              "    </tr>\n",
              "    <tr>\n",
              "      <th>4</th>\n",
              "      <td>T</td>\n",
              "      <td>1</td>\n",
              "      <td>0</td>\n",
              "      <td>1</td>\n",
              "      <td>0</td>\n",
              "    </tr>\n",
              "  </tbody>\n",
              "</table>\n",
              "</div>"
            ],
            "text/plain": [
              "  Inflated  colenco  sizeenco  actenco  agenco\n",
              "0        T        1         1        1       0\n",
              "1        T        1         1        1       1\n",
              "2        T        1         1        0       0\n",
              "3        T        1         1        0       1\n",
              "4        T        1         0        1       0"
            ]
          },
          "metadata": {
            "tags": []
          },
          "execution_count": 50
        }
      ]
    },
    {
      "cell_type": "code",
      "metadata": {
        "id": "ZM8z-Sc9cd2F",
        "colab_type": "code",
        "colab": {}
      },
      "source": [
        "X=dfv.iloc[:,1:5]\n",
        "Y=dfv.iloc[:,0]\n",
        "X=np.array(X)\n",
        "Y=np.array(Y)"
      ],
      "execution_count": 0,
      "outputs": []
    },
    {
      "cell_type": "code",
      "metadata": {
        "id": "YjVn-4kncwS2",
        "colab_type": "code",
        "outputId": "abe1cee9-b467-4087-998a-1162f7029f17",
        "colab": {
          "base_uri": "https://localhost:8080/",
          "height": 50
        }
      },
      "source": [
        "Y"
      ],
      "execution_count": 0,
      "outputs": [
        {
          "output_type": "execute_result",
          "data": {
            "text/plain": [
              "array(['T', 'T', 'T', 'T', 'T', 'F', 'F', 'F', 'T', 'F', 'F', 'F', 'T',\n",
              "       'F', 'F', 'F'], dtype=object)"
            ]
          },
          "metadata": {
            "tags": []
          },
          "execution_count": 52
        }
      ]
    },
    {
      "cell_type": "code",
      "metadata": {
        "id": "XGCAbFZlcz02",
        "colab_type": "code",
        "colab": {}
      },
      "source": [
        "cnb=CategoricalNB()"
      ],
      "execution_count": 0,
      "outputs": []
    },
    {
      "cell_type": "code",
      "metadata": {
        "id": "tfIXevOpc7lx",
        "colab_type": "code",
        "colab": {}
      },
      "source": [
        "cnb.fit(X ,Y)\n",
        "y_pred = cnb.predict(X)"
      ],
      "execution_count": 0,
      "outputs": []
    },
    {
      "cell_type": "code",
      "metadata": {
        "id": "H2TXvIpEdqdC",
        "colab_type": "code",
        "outputId": "b557d3eb-ceb7-400d-c717-d213c50eeae7",
        "colab": {
          "base_uri": "https://localhost:8080/",
          "height": 50
        }
      },
      "source": [
        "k=0\n",
        "for i in range(len(Y)):\n",
        "  if Y[i]!=y_pred[i]:\n",
        "    k+=1\n",
        "    print(k)"
      ],
      "execution_count": 0,
      "outputs": [
        {
          "output_type": "stream",
          "text": [
            "1\n",
            "2\n"
          ],
          "name": "stdout"
        }
      ]
    },
    {
      "cell_type": "code",
      "metadata": {
        "id": "4xf3qk7FfOpV",
        "colab_type": "code",
        "outputId": "d8f88773-b31a-4f96-b384-8b70666a9d0e",
        "colab": {
          "base_uri": "https://localhost:8080/",
          "height": 84
        }
      },
      "source": [
        "from sklearn import metrics\n",
        "print('Accuracy:',metrics.accuracy_score(Y,y_pred))\n",
        "print('Confusion Matrix\\n',metrics.confusion_matrix(Y,y_pred))"
      ],
      "execution_count": 0,
      "outputs": [
        {
          "output_type": "stream",
          "text": [
            "Accuracy: 0.875\n",
            "Confusion Matrix\n",
            " [[9 0]\n",
            " [2 5]]\n"
          ],
          "name": "stdout"
        }
      ]
    },
    {
      "cell_type": "code",
      "metadata": {
        "id": "ffOpNslZfyFH",
        "colab_type": "code",
        "colab": {}
      },
      "source": [
        "solo=[1,0,0,0]\n",
        "solo=[solo]"
      ],
      "execution_count": 0,
      "outputs": []
    },
    {
      "cell_type": "code",
      "metadata": {
        "id": "VBh9FgRdf5jZ",
        "colab_type": "code",
        "colab": {}
      },
      "source": [
        "predicted =cnb.predict(solo)"
      ],
      "execution_count": 0,
      "outputs": []
    },
    {
      "cell_type": "code",
      "metadata": {
        "id": "bmEhod3ggViA",
        "colab_type": "code",
        "outputId": "62299c38-cc3a-445d-8cae-01ab69ea27f2",
        "colab": {
          "base_uri": "https://localhost:8080/",
          "height": 34
        }
      },
      "source": [
        "predicted"
      ],
      "execution_count": 0,
      "outputs": [
        {
          "output_type": "execute_result",
          "data": {
            "text/plain": [
              "array(['F'], dtype='<U1')"
            ]
          },
          "metadata": {
            "tags": []
          },
          "execution_count": 66
        }
      ]
    }
  ]
}